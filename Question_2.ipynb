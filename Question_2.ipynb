{
 "cells": [
  {
   "cell_type": "markdown",
   "metadata": {},
   "source": [
    "## Question 2 \n",
    "\n",
    "The following dataset is used to classify the car acceptability into classes: unacceptable, acceptable, good and very good.\n",
    "\n",
    "1. Import the data dataset from https://archive.ics.uci.edu/ml/machine-learning-databases/car/ (Links to an external site.) (1 points).\n",
    "2. Extract X as all columns except the last column and Y as last column. (1 points)\n",
    "3. Visualize the dataset using any two appropriate graphs. (2 points)\n",
    "4. Visualize the correlation between all the variables of dataset. (1  points)\n",
    "5. Split the data into training set and testing set. (1 points).Perform 10-fold cross validation (1 point).\n",
    "6. Train a Logistic regression model for the dataset. (1 points)\n",
    "7. Compute the accuracy and confusion matrix. (2 points)\n",
    "8. Plot the decision boundary, visualize training and test results (2 point)\n",
    "9. Predict and display the class label of a car with following attributes : buying, maint, doors, persons, lug_boot, safety as [vhigh,low,4,more,small,med]. (1 points)"
   ]
  }
 ],
 "metadata": {
  "kernelspec": {
   "display_name": "Python 3",
   "language": "python",
   "name": "python3"
  },
  "language_info": {
   "codemirror_mode": {
    "name": "ipython",
    "version": 3
   },
   "file_extension": ".py",
   "mimetype": "text/x-python",
   "name": "python",
   "nbconvert_exporter": "python",
   "pygments_lexer": "ipython3",
   "version": "3.7.0"
  }
 },
 "nbformat": 4,
 "nbformat_minor": 2
}
