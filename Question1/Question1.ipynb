{
 "cells": [
  {
   "cell_type": "markdown",
   "metadata": {},
   "source": [
    "## Question 1\n",
    "Spam filtering is an example of document classification task which involves classifying an email / SMS as spam or non-spam (a.k.a. ham).\n",
    "\n",
    "1. Import the dataset from https://www.kaggle.com/uciml/sms-spam-collection-dataset. (1 point).\n",
    "2. Split the data into training and testing. (1 point). Use 10-fold cross validation.(1 point)\n",
    "3. Extract features using TF-IDF and display the features. ( 2 points)\n",
    "4. Model and train the classifier using GaussianNB, BernoulliNB and MultinomialNB.( 3 points)\n",
    "5. Evaluate classifiers on Test Data. ( 2 points)\n",
    "6. Plot the decision boundary, visualize training and test results of all the models (3 points)"
   ]
  },
  {
   "cell_type": "code",
   "execution_count": null,
   "metadata": {},
   "outputs": [],
   "source": [
    "# importing required packages\n",
    "import pandas as pd\n",
    "from sklearn.model_selection import train_test_split\n",
    "from sklearn.model_selection import KFold\n",
    "from sklearn.feature_extraction.text import TfidfVectorizer\n",
    "from sklearn.naive_bayes import GaussianNB, BernoulliNB, MultinomialNB\n",
    "import numpy as np\n",
    "from sklearn.metrics import accuracy_score, confusion_matrix\n",
    "import matplotlib.pyplot as plt\n",
    "import seaborn as sns\n",
    "import nltk  \n",
    "nltk.download('stopwords')\n",
    "nltk.download('punkt')\n",
    "from nltk.corpus import stopwords\n",
    "import re\n",
    "from sklearn.decomposition import PCA"
   ]
  },
  {
   "cell_type": "code",
   "execution_count": null,
   "metadata": {},
   "outputs": [],
   "source": [
    "# Method to plot the confusion matrix\n",
    "model_list = []\n",
    "accuracy_score_list = []\n",
    "def plot_confusion_matrices(confusion_matrices):\n",
    "    fig, axs = plt.subplots(2,5, figsize=(15,5)) \n",
    "    m = 0\n",
    "    for i, ax_r in enumerate(axs):\n",
    "        for j, ax in enumerate(ax_r):\n",
    "            sns.heatmap(confusion_matrices[m], annot=True, cbar=False, cmap='Blues', fmt='g', ax = ax)\n",
    "            ax.set_xlabel('Predicted label')\n",
    "            ax.set_ylabel('True label')\n",
    "            ax.set_title('{} {}'.format('fold', (m + 1)), fontsize=12, fontweight='bold')\n",
    "            m += 1\n",
    "\n",
    "    plt.subplots_adjust(top=0.92, bottom=0.08, left=0.10, right=0.95, hspace=0.25,\n",
    "                        wspace=0.35)\n",
    "    plt.tight_layout()\n",
    "    plt.show()"
   ]
  },
  {
   "cell_type": "code",
   "execution_count": null,
   "metadata": {},
   "outputs": [],
   "source": [
    "# Method to create PCA and visualize scatter plot\n",
    "def pca_scatter_plot(X, model):\n",
    "    pca = PCA(n_components=2)\n",
    "    principalComponents = pca.fit_transform(X)\n",
    "    principalDf = pd.DataFrame(\n",
    "                        data = principalComponents,\n",
    "                        columns = ['principal component 1', 'principal component 2']\n",
    "                        )\n",
    "    df = pd.concat([principalDf, dataset.class_label], axis=1)\n",
    "    \n",
    "    fig = plt.figure(figsize=(10,10))\n",
    "    ax = plt.subplot(1,1,1)\n",
    "    class_label_map = {'spam': 1, 'ham': 0}\n",
    "\n",
    "    for label in ['Spam','Ham']:\n",
    "\n",
    "        plt.scatter(df['principal component 1'], \n",
    "                    df['principal component 2'],\n",
    "                    c=np.vectorize(class_label_map.get)(model.predict(X)),\n",
    "                    marker='o',\n",
    "                    alpha=0.1,\n",
    "                    label=label\n",
    "               )\n",
    "\n",
    "    ax.legend()\n",
    "    ax.grid(True)\n",
    "    plt.xlabel('Principal Component 1')\n",
    "    plt.ylabel('Principal Component 2')\n",
    "\n",
    "    plt.show()"
   ]
  },
  {
   "cell_type": "markdown",
   "metadata": {},
   "source": [
    "<span style=\"color:blue\"><b>Step 1: Downloaded the dataset from the provided link and put it on a public repository so that it can be read directly.</b></span>"
   ]
  },
  {
   "cell_type": "code",
   "execution_count": null,
   "metadata": {},
   "outputs": [],
   "source": [
    "url = 'https://raw.githubusercontent.com/brajbhushan-tripathi/ML_Assignment/master/Question1/spam.csv'\n",
    "dataset = pd.read_csv(url, delimiter=',',encoding='latin-1')\n",
    "dataset.drop(['Unnamed: 2', 'Unnamed: 3', 'Unnamed: 4'],axis=1,inplace=True)\n",
    "dataset.columns = ['class_label','email_text']\n",
    "dataset.head()"
   ]
  },
  {
   "cell_type": "markdown",
   "metadata": {},
   "source": [
    "#### Preprocessing the data"
   ]
  },
  {
   "cell_type": "code",
   "execution_count": null,
   "metadata": {},
   "outputs": [],
   "source": [
    "# Cleaning up the data\n",
    "X = dataset.email_text.values  \n",
    "y = dataset.class_label\n",
    "\n",
    "processed_email_texts = []\n",
    "\n",
    "for text in range(0, len(X)):  \n",
    "    # Remove all the special characters\n",
    "    processed_email_text = re.sub(r'\\W', ' ', str(X[text]))\n",
    " \n",
    "    # Substituting multiple spaces with single space\n",
    "    processed_email_text= re.sub(r'\\s+', ' ', processed_email_text, flags=re.I)\n",
    "    \n",
    "    # Remove stop words from email text\n",
    "    pattern = re.compile(r'\\b(' + r'|'.join(stopwords.words('english')) + r')\\b\\s*')\n",
    "    processed_email_text = pattern.sub('', processed_email_text)\n",
    "  \n",
    "    # Converting to Lowercase\n",
    "    processed_email_text = processed_email_text.lower()\n",
    "\n",
    "    processed_email_texts.append(processed_email_text)"
   ]
  },
  {
   "cell_type": "markdown",
   "metadata": {},
   "source": [
    "<span style=\"color:blue\"><b>Step 3: Extracting features using TF-IDF and displaying the features.</b></span>"
   ]
  },
  {
   "cell_type": "code",
   "execution_count": null,
   "metadata": {},
   "outputs": [],
   "source": [
    "# TF-IDF vectorization\n",
    "tfidfconverter = TfidfVectorizer(\n",
    "                    max_features=2000,\n",
    "                    min_df=10,\n",
    "                    max_df=0.9,\n",
    "                    ngram_range=(1,3),\n",
    "                    tokenizer=nltk.tokenize.word_tokenize\n",
    "                    )\n",
    "X = tfidfconverter.fit_transform(processed_email_texts).toarray()"
   ]
  },
  {
   "cell_type": "code",
   "execution_count": null,
   "metadata": {},
   "outputs": [],
   "source": [
    "# Display sample feature list with TF-IDF score\n",
    "feature_list = pd.concat([pd.Series(tfidfconverter.get_feature_names()),\n",
    "                          pd.Series(tfidfconverter.idf_)], axis=1)\n",
    "                          \n",
    "feature_list.sample(5)"
   ]
  },
  {
   "cell_type": "markdown",
   "metadata": {},
   "source": [
    "<div style=\"color:blue\"><b>Step 2, 4, 5:<ul><li>Splitting the data in train and test.</li><li>Using 10-fold cross validation.</li><li>   Modelling and training the classifier</li><li>Evalution of the model on test data.<ul></b></div>"
   ]
  },
  {
   "cell_type": "markdown",
   "metadata": {},
   "source": [
    "<div style=\"color:blue\"><b>Step 6: Due to the nature of the data we aren't able to plot decision boundaries. So, as suggested by faculty, we are displaying the scatter plot by creating 2 principal components.</b></div>"
   ]
  },
  {
   "cell_type": "markdown",
   "metadata": {},
   "source": [
    "#### GaussianNB"
   ]
  },
  {
   "cell_type": "code",
   "execution_count": null,
   "metadata": {},
   "outputs": [],
   "source": [
    "# Creating Gaussion Naive Bayes Model\n",
    "scores = []\n",
    "m1 = GaussianNB()\n",
    "model_list.append('Gaussian Naive Bayes')\n",
    "conf_matrices = []\n",
    "\n",
    "# Using 10-Fold cross validation\n",
    "cv = KFold(n_splits=10, random_state=42, shuffle=False)\n",
    "for train_index, test_index in cv.split(X):\n",
    "    X_train, X_test, y_train, y_test = X[train_index], X[test_index], y.iloc[train_index], y.iloc[test_index]\n",
    "    m1.fit(X_train, y_train)\n",
    "    y_pred = m1.predict(X_test)\n",
    "    scores.append(m1.score(X_test, y_test))\n",
    "    conf_matrix = pd.DataFrame(confusion_matrix(y_test, y_pred), columns=['ham', 'spam'], index=['ham','spam'])\n",
    "    conf_matrices.append(conf_matrix)\n",
    "\n",
    "# Print mean accuracy score\n",
    "mean_score = np.mean(scores)\n",
    "print(mean_score)\n",
    "\n",
    "accuracy_score_list.append(mean_score)\n",
    "# Plot confusion matrix for evaluation\n",
    "plot_confusion_matrices(conf_matrices)"
   ]
  },
  {
   "cell_type": "code",
   "execution_count": null,
   "metadata": {},
   "outputs": [],
   "source": [
    "# Scatter Plot\n",
    "pca_scatter_plot(X, m1)"
   ]
  },
  {
   "cell_type": "markdown",
   "metadata": {},
   "source": [
    "#### MultinomialNB"
   ]
  },
  {
   "cell_type": "code",
   "execution_count": null,
   "metadata": {},
   "outputs": [],
   "source": [
    "# Creating Multinomial Naive Bayes Model\n",
    "scores = []\n",
    "m1 = MultinomialNB()\n",
    "model_list.append('Multinomial Naive Bayes')\n",
    "conf_matrices = []\n",
    "\n",
    "# Using 10-Fold cross validation\n",
    "cv = KFold(n_splits=10, random_state=42, shuffle=False)\n",
    "for train_index, test_index in cv.split(X):\n",
    "    X_train, X_test, y_train, y_test = X[train_index], X[test_index], y.iloc[train_index], y.iloc[test_index]\n",
    "    m1.fit(X_train, y_train)\n",
    "    y_pred = m1.predict(X_test)\n",
    "    scores.append(m1.score(X_test, y_test))\n",
    "    conf_matrix = pd.DataFrame(confusion_matrix(y_test, y_pred), columns=['ham', 'spam'], index=['ham','spam'])\n",
    "    conf_matrices.append(conf_matrix)\n",
    "\n",
    "# Print mean accuracy score\n",
    "mean_score = np.mean(scores)\n",
    "print(mean_score)\n",
    "\n",
    "accuracy_score_list.append(mean_score)\n",
    "# Plot confusion matrix for evaluation\n",
    "plot_confusion_matrices(conf_matrices)"
   ]
  },
  {
   "cell_type": "code",
   "execution_count": null,
   "metadata": {},
   "outputs": [],
   "source": [
    "# Scatter Plot\n",
    "pca_scatter_plot(X, m1)"
   ]
  },
  {
   "cell_type": "markdown",
   "metadata": {},
   "source": [
    "#### BernoulliNB"
   ]
  },
  {
   "cell_type": "code",
   "execution_count": null,
   "metadata": {},
   "outputs": [],
   "source": [
    "# Creating Bernoulli Naive Bayes Model\n",
    "scores = []\n",
    "m1 = BernoulliNB()\n",
    "model_list.append('Bernoulli Naive Bayes')\n",
    "conf_matrices = []\n",
    "\n",
    "# Using 10-Fold cross validation\n",
    "cv = KFold(n_splits=10, random_state=42, shuffle=False)\n",
    "for train_index, test_index in cv.split(X):\n",
    "    X_train, X_test, y_train, y_test = X[train_index], X[test_index], y.iloc[train_index], y.iloc[test_index]\n",
    "    m1.fit(X_train, y_train)\n",
    "    y_pred = m1.predict(X_test)\n",
    "    scores.append(m1.score(X_test, y_test))\n",
    "    conf_matrix = pd.DataFrame(confusion_matrix(y_test, y_pred), columns=['ham', 'spam'], index=['ham','spam'])\n",
    "    conf_matrices.append(conf_matrix)\n",
    "\n",
    "# Print mean accuracy score\n",
    "mean_score = np.mean(scores)\n",
    "print(mean_score)\n",
    "\n",
    "accuracy_score_list.append(mean_score)\n",
    "# Plot confusion matrix for evaluation\n",
    "plot_confusion_matrices(conf_matrices)"
   ]
  },
  {
   "cell_type": "code",
   "execution_count": null,
   "metadata": {},
   "outputs": [],
   "source": [
    "# Scatter Plot\n",
    "pca_scatter_plot(X, m1)"
   ]
  },
  {
   "cell_type": "markdown",
   "metadata": {},
   "source": [
    "#### Performance comparison "
   ]
  },
  {
   "cell_type": "code",
   "execution_count": null,
   "metadata": {},
   "outputs": [],
   "source": [
    "results = pd.DataFrame(accuracy_score_list, index=list(model_list), columns=['test_accuracy'])\n",
    "results"
   ]
  },
  {
   "cell_type": "code",
   "execution_count": null,
   "metadata": {},
   "outputs": [],
   "source": [
    "# Display bar chart to compare the performance\n",
    "plt.figure(figsize=(10, 6))\n",
    "sns.barplot(y ='test_accuracy', x=results.index, data=results)\n",
    "plt.ylim(0., 1.0)\n",
    "plt.title('Performance comparision')\n",
    "plt.xlabel('Model Name')\n",
    "plt.show()"
   ]
  }
 ],
 "metadata": {
  "kernelspec": {
   "display_name": "Python 3",
   "language": "python",
   "name": "python3"
  },
  "language_info": {
   "codemirror_mode": {
    "name": "ipython",
    "version": 3
   },
   "file_extension": ".py",
   "mimetype": "text/x-python",
   "name": "python",
   "nbconvert_exporter": "python",
   "pygments_lexer": "ipython3",
   "version": "3.7.0"
  }
 },
 "nbformat": 4,
 "nbformat_minor": 2
}
