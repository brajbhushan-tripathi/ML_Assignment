{
 "cells": [
  {
   "cell_type": "markdown",
   "metadata": {},
   "source": [
    "## Problem Statement\n",
    "The following dataset is used to classify the car acceptability into classes: unacceptable, acceptable, good and very good.\n",
    "\n",
    " - Import the data dataset from https://archive.ics.uci.edu/ml/machine-learning-databases/car/\n",
    " - Extract X as all columns except the last column and Y as last column\n",
    " - Visualize the dataset using any two appropriate graphs\n",
    " - Visualize the correlation between all the variables of dataset\n",
    " - Split the data into training set and testing set. Perform 10-fold cross validation\n",
    " - Train a Logistic regression model for the dataset\n",
    " - Compute the accuracy and confusion matrix\n",
    " - Plot the decision boundary, visualize training and test results\n",
    " - Predict and display the class label of a car with following attributes : buying, maint, doors, persons, lug_boot,\n",
    " safety as [vhigh,low,4,more,small,med]"
   ]
  },
  {
   "cell_type": "code",
   "execution_count": 1,
   "metadata": {},
   "outputs": [],
   "source": [
    "%matplotlib inline\n",
    "import pandas as pd\n",
    "import numpy as np\n",
    "import seaborn as sns\n",
    "import warnings\n",
    "warnings.filterwarnings('ignore')"
   ]
  },
  {
   "cell_type": "code",
   "execution_count": 2,
   "metadata": {},
   "outputs": [
    {
     "data": {
      "text/html": [
       "<div>\n",
       "<style scoped>\n",
       "    .dataframe tbody tr th:only-of-type {\n",
       "        vertical-align: middle;\n",
       "    }\n",
       "\n",
       "    .dataframe tbody tr th {\n",
       "        vertical-align: top;\n",
       "    }\n",
       "\n",
       "    .dataframe thead th {\n",
       "        text-align: right;\n",
       "    }\n",
       "</style>\n",
       "<table border=\"1\" class=\"dataframe\">\n",
       "  <thead>\n",
       "    <tr style=\"text-align: right;\">\n",
       "      <th></th>\n",
       "      <th>buying_price</th>\n",
       "      <th>maintenance_price</th>\n",
       "      <th>num_doors</th>\n",
       "      <th>num_persons</th>\n",
       "      <th>luggage_boot_space</th>\n",
       "      <th>safety</th>\n",
       "      <th>class_value</th>\n",
       "    </tr>\n",
       "  </thead>\n",
       "  <tbody>\n",
       "    <tr>\n",
       "      <th>0</th>\n",
       "      <td>vhigh</td>\n",
       "      <td>vhigh</td>\n",
       "      <td>2</td>\n",
       "      <td>2</td>\n",
       "      <td>small</td>\n",
       "      <td>low</td>\n",
       "      <td>unacc</td>\n",
       "    </tr>\n",
       "    <tr>\n",
       "      <th>1</th>\n",
       "      <td>vhigh</td>\n",
       "      <td>vhigh</td>\n",
       "      <td>2</td>\n",
       "      <td>2</td>\n",
       "      <td>small</td>\n",
       "      <td>med</td>\n",
       "      <td>unacc</td>\n",
       "    </tr>\n",
       "    <tr>\n",
       "      <th>2</th>\n",
       "      <td>vhigh</td>\n",
       "      <td>vhigh</td>\n",
       "      <td>2</td>\n",
       "      <td>2</td>\n",
       "      <td>small</td>\n",
       "      <td>high</td>\n",
       "      <td>unacc</td>\n",
       "    </tr>\n",
       "    <tr>\n",
       "      <th>3</th>\n",
       "      <td>vhigh</td>\n",
       "      <td>vhigh</td>\n",
       "      <td>2</td>\n",
       "      <td>2</td>\n",
       "      <td>med</td>\n",
       "      <td>low</td>\n",
       "      <td>unacc</td>\n",
       "    </tr>\n",
       "    <tr>\n",
       "      <th>4</th>\n",
       "      <td>vhigh</td>\n",
       "      <td>vhigh</td>\n",
       "      <td>2</td>\n",
       "      <td>2</td>\n",
       "      <td>med</td>\n",
       "      <td>med</td>\n",
       "      <td>unacc</td>\n",
       "    </tr>\n",
       "  </tbody>\n",
       "</table>\n",
       "</div>"
      ],
      "text/plain": [
       "  buying_price maintenance_price num_doors num_persons luggage_boot_space  \\\n",
       "0        vhigh             vhigh         2           2              small   \n",
       "1        vhigh             vhigh         2           2              small   \n",
       "2        vhigh             vhigh         2           2              small   \n",
       "3        vhigh             vhigh         2           2                med   \n",
       "4        vhigh             vhigh         2           2                med   \n",
       "\n",
       "  safety class_value  \n",
       "0    low       unacc  \n",
       "1    med       unacc  \n",
       "2   high       unacc  \n",
       "3    low       unacc  \n",
       "4    med       unacc  "
      ]
     },
     "execution_count": 2,
     "metadata": {},
     "output_type": "execute_result"
    }
   ],
   "source": [
    "# Extract the dataset\n",
    "col_names = ['buying_price','maintenance_price','num_doors','num_persons','luggage_boot_space','safety','class_value']\n",
    "data = pd.read_csv(\"https://archive.ics.uci.edu/ml/machine-learning-databases/car/car.data\", names=col_names)\n",
    "data.head()"
   ]
  },
  {
   "cell_type": "code",
   "execution_count": 3,
   "metadata": {},
   "outputs": [
    {
     "data": {
      "image/png": "[encoded data removed]",
      "text/plain": [
       "<Figure size 864x576 with 1 Axes>"
      ]
     },
     "metadata": {
      "needs_background": "light"
     },
     "output_type": "display_data"
    }
   ],
   "source": [
    "# Visualize data using 2 graphs\n",
    "import matplotlib.pyplot as plt\n",
    "\n",
    "plt.figure(figsize=(12,8))\n",
    "\n",
    "ax = sns.countplot(data.class_value)\n",
    "ax.set(xlabel=\"Class Value\", ylabel=\"Count/Frequency\", title=\"Count Plot for Class Value\")\n",
    "plt.show()"
   ]
  },
  {
   "cell_type": "code",
   "execution_count": 4,
   "metadata": {},
   "outputs": [
    {
     "data": {
      "image/png": "[encoded data removed]",
      "text/plain": [
       "<Figure size 864x576 with 1 Axes>"
      ]
     },
     "metadata": {
      "needs_background": "light"
     },
     "output_type": "display_data"
    }
   ],
   "source": [
    "ax = data.groupby(\"class_value\").count().plot(kind='bar', figsize=(12,8))\n",
    "ax.set(xlabel=\"Class Value\", ylabel=\"Count/Frequency\", title=\"Count Plot for Class Value showing all features\")\n",
    "plt.show()"
   ]
  },
  {
   "cell_type": "code",
   "execution_count": 5,
   "metadata": {},
   "outputs": [
    {
     "data": {
      "text/html": [
       "<div>\n",
       "<style scoped>\n",
       "    .dataframe tbody tr th:only-of-type {\n",
       "        vertical-align: middle;\n",
       "    }\n",
       "\n",
       "    .dataframe tbody tr th {\n",
       "        vertical-align: top;\n",
       "    }\n",
       "\n",
       "    .dataframe thead th {\n",
       "        text-align: right;\n",
       "    }\n",
       "</style>\n",
       "<table border=\"1\" class=\"dataframe\">\n",
       "  <thead>\n",
       "    <tr style=\"text-align: right;\">\n",
       "      <th></th>\n",
       "      <th>buying_price</th>\n",
       "      <th>maintenance_price</th>\n",
       "      <th>num_doors</th>\n",
       "      <th>num_persons</th>\n",
       "      <th>luggage_boot_space</th>\n",
       "      <th>safety</th>\n",
       "      <th>class_value</th>\n",
       "      <th>buying_price_mapped</th>\n",
       "      <th>maintenance_price_mapped</th>\n",
       "      <th>num_doors_mapped</th>\n",
       "      <th>num_persons_mapped</th>\n",
       "      <th>luggage_boot_space_mapped</th>\n",
       "      <th>safety_mapped</th>\n",
       "    </tr>\n",
       "  </thead>\n",
       "  <tbody>\n",
       "    <tr>\n",
       "      <th>1380</th>\n",
       "      <td>low</td>\n",
       "      <td>vhigh</td>\n",
       "      <td>5more</td>\n",
       "      <td>2</td>\n",
       "      <td>med</td>\n",
       "      <td>low</td>\n",
       "      <td>unacc</td>\n",
       "      <td>1</td>\n",
       "      <td>4</td>\n",
       "      <td>4</td>\n",
       "      <td>1</td>\n",
       "      <td>2</td>\n",
       "      <td>1</td>\n",
       "    </tr>\n",
       "    <tr>\n",
       "      <th>1240</th>\n",
       "      <td>med</td>\n",
       "      <td>low</td>\n",
       "      <td>3</td>\n",
       "      <td>more</td>\n",
       "      <td>big</td>\n",
       "      <td>med</td>\n",
       "      <td>good</td>\n",
       "      <td>2</td>\n",
       "      <td>1</td>\n",
       "      <td>2</td>\n",
       "      <td>3</td>\n",
       "      <td>3</td>\n",
       "      <td>2</td>\n",
       "    </tr>\n",
       "    <tr>\n",
       "      <th>867</th>\n",
       "      <td>med</td>\n",
       "      <td>vhigh</td>\n",
       "      <td>2</td>\n",
       "      <td>2</td>\n",
       "      <td>med</td>\n",
       "      <td>low</td>\n",
       "      <td>unacc</td>\n",
       "      <td>2</td>\n",
       "      <td>4</td>\n",
       "      <td>1</td>\n",
       "      <td>1</td>\n",
       "      <td>2</td>\n",
       "      <td>1</td>\n",
       "    </tr>\n",
       "    <tr>\n",
       "      <th>56</th>\n",
       "      <td>vhigh</td>\n",
       "      <td>vhigh</td>\n",
       "      <td>4</td>\n",
       "      <td>2</td>\n",
       "      <td>small</td>\n",
       "      <td>high</td>\n",
       "      <td>unacc</td>\n",
       "      <td>4</td>\n",
       "      <td>4</td>\n",
       "      <td>3</td>\n",
       "      <td>1</td>\n",
       "      <td>1</td>\n",
       "      <td>3</td>\n",
       "    </tr>\n",
       "    <tr>\n",
       "      <th>1030</th>\n",
       "      <td>med</td>\n",
       "      <td>high</td>\n",
       "      <td>4</td>\n",
       "      <td>2</td>\n",
       "      <td>med</td>\n",
       "      <td>med</td>\n",
       "      <td>unacc</td>\n",
       "      <td>2</td>\n",
       "      <td>3</td>\n",
       "      <td>3</td>\n",
       "      <td>1</td>\n",
       "      <td>2</td>\n",
       "      <td>2</td>\n",
       "    </tr>\n",
       "  </tbody>\n",
       "</table>\n",
       "</div>"
      ],
      "text/plain": [
       "     buying_price maintenance_price num_doors num_persons luggage_boot_space  \\\n",
       "1380          low             vhigh     5more           2                med   \n",
       "1240          med               low         3        more                big   \n",
       "867           med             vhigh         2           2                med   \n",
       "56          vhigh             vhigh         4           2              small   \n",
       "1030          med              high         4           2                med   \n",
       "\n",
       "     safety class_value  buying_price_mapped  maintenance_price_mapped  \\\n",
       "1380    low       unacc                    1                         4   \n",
       "1240    med        good                    2                         1   \n",
       "867     low       unacc                    2                         4   \n",
       "56     high       unacc                    4                         4   \n",
       "1030    med       unacc                    2                         3   \n",
       "\n",
       "      num_doors_mapped  num_persons_mapped  luggage_boot_space_mapped  \\\n",
       "1380                 4                   1                          2   \n",
       "1240                 2                   3                          3   \n",
       "867                  1                   1                          2   \n",
       "56                   3                   1                          1   \n",
       "1030                 3                   1                          2   \n",
       "\n",
       "      safety_mapped  \n",
       "1380              1  \n",
       "1240              2  \n",
       "867               1  \n",
       "56                3  \n",
       "1030              2  "
      ]
     },
     "execution_count": 5,
     "metadata": {},
     "output_type": "execute_result"
    }
   ],
   "source": [
    "# Create mapping for categorical features to convert text to ordinal data\n",
    "map_buying_price = {'low':1, 'med':2, 'high':3, 'vhigh':4}\n",
    "map_maintenance_price = {'low':1, 'med':2, 'high':3, 'vhigh':4}\n",
    "map_num_doors = {'2':1, '3':2, '4':3, '5more':4}\n",
    "map_num_persons = {'2':1, '4':2, 'more':3}\n",
    "map_luggage_boot_space = {'small':1, 'med':2, 'big':3}\n",
    "map_safety = {'low':1, 'med':2, 'high':3}\n",
    "class_value_map = {'unacc':1,'acc':2,'good':3,'vgood':4}\n",
    "\n",
    "data['buying_price_mapped'] = data.buying_price.map(map_buying_price)\n",
    "data['maintenance_price_mapped'] = data.maintenance_price.map(map_maintenance_price)\n",
    "data['num_doors_mapped'] = data.num_doors.map(map_num_doors)\n",
    "data['num_persons_mapped'] = data.num_persons.map(map_num_persons)\n",
    "data['luggage_boot_space_mapped'] = data.luggage_boot_space.map(map_luggage_boot_space)\n",
    "data['safety_mapped'] = data.safety.map(map_safety)\n",
    "\n",
    "data.sample(5)"
   ]
  },
  {
   "cell_type": "code",
   "execution_count": 6,
   "metadata": {},
   "outputs": [],
   "source": [
    "# Choosing only the ordinal columns and the target variable in the dataframe\n",
    "cols = ['buying_price_mapped',\n",
    "        'maintenance_price_mapped',\n",
    "        'num_doors_mapped',\n",
    "        'num_persons_mapped',\n",
    "        'luggage_boot_space_mapped',\n",
    "        'safety_mapped',\n",
    "        'class_value']\n",
    "\n",
    "data = data[cols]"
   ]
  },
  {
   "cell_type": "code",
   "execution_count": 7,
   "metadata": {},
   "outputs": [
    {
     "data": {
      "image/png": "[encoded data removed]",
      "text/plain": [
       "<Figure size 432x288 with 2 Axes>"
      ]
     },
     "metadata": {
      "needs_background": "light"
     },
     "output_type": "display_data"
    }
   ],
   "source": [
    "# Since the data is ordinal, we are using Spearman Rank Correlation and plot as a heatmap on graph\n",
    "\n",
    "ax = sns.heatmap(data.corr(method='spearman'), cmap=\"YlGnBu\")\n",
    "ax.yaxis.set_ticklabels(ax.yaxis.get_ticklabels(), rotation=0, ha='right', fontsize=10)\n",
    "ax.xaxis.set_ticklabels(ax.xaxis.get_ticklabels(), rotation=45, ha='right', fontsize=10)\n",
    "\n",
    "plt.show()"
   ]
  },
  {
   "cell_type": "code",
   "execution_count": 8,
   "metadata": {},
   "outputs": [],
   "source": [
    "# Split X and Y variables as features and target variable\n",
    "\n",
    "X = data.iloc[:, :-1]\n",
    "Y = data.iloc[:, -1:]"
   ]
  },
  {
   "cell_type": "code",
   "execution_count": 9,
   "metadata": {},
   "outputs": [],
   "source": [
    "# Train the model using 10 Fold Cross Validation\n",
    "\n",
    "from sklearn.linear_model import LogisticRegression\n",
    "from sklearn.model_selection import KFold\n",
    "from sklearn.metrics import accuracy_score, confusion_matrix, classification_report\n",
    "\n",
    "i = 0\n",
    "accuracy = {}\n",
    "confusionmatrix = {}\n",
    "\n",
    "for train_idx, test_idx in KFold(n_splits=10, shuffle=True).split(X):\n",
    "    X_train, X_test, Y_train, Y_test = X.iloc[train_idx], X.iloc[test_idx], Y.iloc[train_idx], Y.iloc[test_idx]\n",
    "    lr = LogisticRegression()\n",
    "    model = lr.fit(X_train,Y_train)\n",
    "    Y_pred = model.predict(X_test)\n",
    "    accuracy[i] = accuracy_score(Y_test, Y_pred)\n",
    "    confusionmatrix[i] = confusion_matrix(Y_test, Y_pred, labels=['unacc','acc','good','vgood'])\n",
    "    i += 1"
   ]
  },
  {
   "cell_type": "code",
   "execution_count": 10,
   "metadata": {},
   "outputs": [
    {
     "data": {
      "image/png": "[encoded data removed]",
      "text/plain": [
       "<Figure size 360x360 with 2 Axes>"
      ]
     },
     "metadata": {
      "needs_background": "light"
     },
     "output_type": "display_data"
    }
   ],
   "source": [
    "# Plot Confusion Matrix for one of the model using a heatmap\n",
    "\n",
    "df_cm = pd.DataFrame(confusionmatrix[9], \n",
    "                     index=['unacc','acc','good','vgood'], \n",
    "                     columns=['unacc','acc','good','vgood']\n",
    "                    )\n",
    "\n",
    "fig = plt.figure(figsize=(5,5))\n",
    "ax = plt.subplot(1,1,1)\n",
    "try:\n",
    "    heatmap = sns.heatmap(df_cm, annot=True, fmt=\"d\", cmap=\"YlGnBu\", square=True, ax=ax)\n",
    "except ValueError:\n",
    "    raise ValueError(\"Confusion matrix values must be integers.\")\n",
    "    \n",
    "heatmap.yaxis.set_ticklabels(heatmap.yaxis.get_ticklabels(), rotation=0, ha='right', fontsize=10)\n",
    "heatmap.xaxis.set_ticklabels(heatmap.xaxis.get_ticklabels(), rotation=45, ha='right', fontsize=10)\n",
    "plt.ylabel('True label')\n",
    "plt.xlabel('Predicted label')\n",
    "\n",
    "plt.show()"
   ]
  },
  {
   "cell_type": "code",
   "execution_count": 11,
   "metadata": {},
   "outputs": [
    {
     "name": "stdout",
     "output_type": "stream",
     "text": [
      "Mean Accuracy of model is 0.7853239682753059\n"
     ]
    }
   ],
   "source": [
    "# Mean accuracy of the model\n",
    "\n",
    "mean_accuracy = np.array([accuracy[k] for k in accuracy]).mean()\n",
    "print(\"Mean Accuracy of model is % s\" % mean_accuracy)"
   ]
  },
  {
   "cell_type": "code",
   "execution_count": 12,
   "metadata": {},
   "outputs": [
    {
     "data": {
      "image/png": "[encoded data removed]",
      "text/plain": [
       "<Figure size 432x288 with 2 Axes>"
      ]
     },
     "metadata": {
      "needs_background": "light"
     },
     "output_type": "display_data"
    }
   ],
   "source": [
    "# Plot Decision Boundary - Below plot shows different class_value (in different colours)\n",
    "\n",
    "plt.scatter(data['buying_price_mapped'], \n",
    "            data['num_persons_mapped'],\n",
    "            c=np.vectorize(class_value_map.get)(model.predict(X.values)),\n",
    "            marker='x',\n",
    "            cmap='Set1'\n",
    "           )\n",
    "\n",
    "plt.colorbar()\n",
    "plt.grid()\n",
    "plt.xlabel('Buying Price')\n",
    "plt.ylabel('Number of Persons')\n",
    "plt.xticks(ticks=[1,2,3,4], labels=['low','med','high','vhigh'])\n",
    "plt.yticks(ticks=[1,2,3], labels=['2','4','more'])\n",
    "plt.show()"
   ]
  },
  {
   "cell_type": "code",
   "execution_count": 13,
   "metadata": {},
   "outputs": [
    {
     "name": "stdout",
     "output_type": "stream",
     "text": [
      "Class Value of given data is unacc\n"
     ]
    }
   ],
   "source": [
    "# Prediction for a given set of data\n",
    "\n",
    "input_data = {\n",
    "    'buying_price':'vhigh', \n",
    "    'maintenance_price': 'low', \n",
    "    'num_doors': '4',\n",
    "    'num_persons': 'more', \n",
    "    'luggage_boot_space': 'small', \n",
    "    'safety': 'med'\n",
    "}\n",
    "\n",
    "df = pd.DataFrame(input_data, index=[0])\n",
    "\n",
    "df['buying_price'] = df.buying_price.map(map_buying_price)\n",
    "df['maintenance_price'] = df.maintenance_price.map(map_maintenance_price)\n",
    "df['num_doors'] = df.num_doors.map(map_num_doors)\n",
    "df['num_persons'] = df.num_persons.map(map_num_persons)\n",
    "df['luggage_boot_space'] = df.luggage_boot_space.map(map_luggage_boot_space)\n",
    "df['safety'] = df.safety.map(map_safety)\n",
    "\n",
    "prediction = (model.predict(df.values))\n",
    "\n",
    "print(\"Class Value of given data is % s\" % prediction[0])"
   ]
  }
 ],
 "metadata": {
  "kernelspec": {
   "display_name": "Python 3",
   "language": "python",
   "name": "python3"
  },
  "language_info": {
   "codemirror_mode": {
    "name": "ipython",
    "version": 3
   },
   "file_extension": ".py",
   "mimetype": "text/x-python",
   "name": "python",
   "nbconvert_exporter": "python",
   "pygments_lexer": "ipython3",
   "version": "3.7.3"
  }
 },
 "nbformat": 4,
 "nbformat_minor": 2
}
